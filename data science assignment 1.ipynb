{
 "cells": [
  {
   "cell_type": "markdown",
   "id": "758e7e66",
   "metadata": {},
   "source": [
    "# DATA SCIENCE COURSE ASSIGNMENT NO.1"
   ]
  },
  {
   "cell_type": "code",
   "execution_count": 1,
   "id": "554fd1a1",
   "metadata": {},
   "outputs": [
    {
     "name": "stdout",
     "output_type": "stream",
     "text": [
      "Twinkle twinkle little star, \n",
      "         How i wonder what you are!\n",
      "                Up above the world so high! \n",
      "                like a diamond on the sky,\" \n",
      "            \n",
      "        twinkle twinkle little star, \n",
      " how i wonder what you are\n"
     ]
    }
   ],
   "source": [
    "# 1. WRITE A PYTHONPROGRAM TO PRINT THE FOLLOWING STRING INA SPECIFIC FORMAT (SEE THE OUTPUT).\"\"\"learning poem\n",
    "\n",
    "\n",
    "\n",
    "print(\"\"\"Twinkle twinkle little star, \n",
    "         How i wonder what you are!\n",
    "                Up above the world so high! \n",
    "                like a diamond on the sky,\" \n",
    "            \n",
    "        twinkle twinkle little star, \n",
    " how i wonder what you are\"\"\");\n",
    "\n",
    "\n"
   ]
  },
  {
   "cell_type": "code",
   "execution_count": 2,
   "id": "2dd8f0d4",
   "metadata": {},
   "outputs": [
    {
     "name": "stdout",
     "output_type": "stream",
     "text": [
      "Python Version 3.8.8 (default, Apr 13 2021, 15:08:03) [MSC v.1916 64 bit (AMD64)]\n"
     ]
    }
   ],
   "source": [
    "# 2.WRITE A PYTHON PROGRAM TO GET THE PYTHON VERSION YOU ARE USING\n",
    "\n",
    "import sys\n",
    "print(\"Python Version\",sys.version)"
   ]
  },
  {
   "cell_type": "code",
   "execution_count": 3,
   "id": "f2478bd4",
   "metadata": {},
   "outputs": [
    {
     "name": "stdout",
     "output_type": "stream",
     "text": [
      "2022-01-01 08:16:59.250450\n"
     ]
    }
   ],
   "source": [
    "# 3.WRITE A PYTHON PROGRAM TO DISPLAY THE CURRENT DATE AND TIME\n",
    "\n",
    "import datetime\n",
    "\n",
    "i = datetime.datetime.now()\n",
    "print(i)"
   ]
  },
  {
   "cell_type": "code",
   "execution_count": 4,
   "id": "ff02e7d7",
   "metadata": {},
   "outputs": [
    {
     "name": "stdout",
     "output_type": "stream",
     "text": [
      "Enter value of r6\n",
      "Enter value of pi3.14\n",
      "113.04\n"
     ]
    }
   ],
   "source": [
    "# 4. WRITE A PYTHON PROGRAM WHICH ACCEPTS THE RADIUS OF A CIRCLE FROM TH USER AND COMPUTE THE AREA\n",
    "r = int(input(\"Enter value of r\"));\n",
    "pi = float(input(\"Enter value of pi\"));\n",
    "area_of_circle = pi * r**2;\n",
    "print(area_of_circle);\n"
   ]
  },
  {
   "cell_type": "code",
   "execution_count": 5,
   "id": "90f1b846",
   "metadata": {},
   "outputs": [
    {
     "name": "stdout",
     "output_type": "stream",
     "text": [
      "Enter first nameHasan\n",
      "Enter last nameFarhan\n",
      "Farhan Hasan\n"
     ]
    }
   ],
   "source": [
    "# 5.WRITE A PYTHON PROGRAM WHICH ACCEPTS THE USER'S FIRST AND LAST NAME AND PRINT THEM IN REVERSE ORDER WITH A SPACE BETWEEN THEM\n",
    "\n",
    "first_name = input(\"Enter first name\");\n",
    "last_name = input(\"Enter last name\");\n",
    "full_name = (last_name+ \" \"+ first_name);\n",
    "print(full_name);\n"
   ]
  },
  {
   "cell_type": "code",
   "execution_count": 6,
   "id": "386cbd8c",
   "metadata": {},
   "outputs": [
    {
     "name": "stdout",
     "output_type": "stream",
     "text": [
      "enter value of a10\n",
      "enter value of b20\n",
      "30\n"
     ]
    }
   ],
   "source": [
    "# 6. WRITE A PYTHON PROGRAM WHICH TAKES TWO INPUTS FROM USER AND PRINT THEM ADDITION.\n",
    "a = int(input(\"enter value of a\"));\n",
    "b = int(input(\"enter value of b\"));\n",
    "c = int(a) + int(b);\n",
    "print(c);\n"
   ]
  },
  {
   "cell_type": "code",
   "execution_count": null,
   "id": "a4cf9ccb",
   "metadata": {},
   "outputs": [],
   "source": []
  }
 ],
 "metadata": {
  "kernelspec": {
   "display_name": "Python 3",
   "language": "python",
   "name": "python3"
  },
  "language_info": {
   "codemirror_mode": {
    "name": "ipython",
    "version": 3
   },
   "file_extension": ".py",
   "mimetype": "text/x-python",
   "name": "python",
   "nbconvert_exporter": "python",
   "pygments_lexer": "ipython3",
   "version": "3.8.8"
  }
 },
 "nbformat": 4,
 "nbformat_minor": 5
}
